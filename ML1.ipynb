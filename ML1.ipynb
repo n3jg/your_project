{
  "nbformat": 4,
  "nbformat_minor": 0,
  "metadata": {
    "colab": {
      "name": "M.ipynb",
      "provenance": [],
      "private_outputs": true,
      "include_colab_link": true
    },
    "kernelspec": {
      "name": "python3",
      "display_name": "Python 3"
    },
    "accelerator": "GPU"
  },
  "cells": [
    {
      "cell_type": "markdown",
      "metadata": {
        "id": "view-in-github",
        "colab_type": "text"
      },
      "source": [
        "<a href=\"https://colab.research.google.com/github/n3jg/your_project/blob/master/ML1.ipynb\" target=\"_parent\"><img src=\"https://colab.research.google.com/assets/colab-badge.svg\" alt=\"Open In Colab\"/></a>"
      ]
    },
    {
      "cell_type": "code",
      "metadata": {
        "id": "nXcLMr2xfRur",
        "colab_type": "code",
        "colab": {}
      },
      "source": [
        "from google.colab import drive\n",
        "import librosa\n",
        "import librosa.display\n",
        "import pandas as pd\n",
        "import numpy as np\n",
        "import matplotlib.pyplot as plt\n",
        "%matplotlib inline\n",
        "import csv\n",
        "from sklearn.model_selection import train_test_split\n",
        "import pickle\n",
        "from sklearn.preprocessing import StandardScaler\n",
        "from sklearn.ensemble import RandomForestRegressor"
      ],
      "execution_count": 0,
      "outputs": []
    },
    {
      "cell_type": "markdown",
      "metadata": {
        "id": "IrM25mR_RFvX",
        "colab_type": "text"
      },
      "source": [
        "Данные"
      ]
    },
    {
      "cell_type": "code",
      "metadata": {
        "id": "zhSFwG7sJBAe",
        "colab_type": "code",
        "colab": {}
      },
      "source": [
        "drive.mount('/content/gdrive')"
      ],
      "execution_count": 0,
      "outputs": []
    },
    {
      "cell_type": "code",
      "metadata": {
        "id": "WbMKjxX6qGpc",
        "colab_type": "code",
        "colab": {}
      },
      "source": [
        "data= pd.read_csv('/content/gdrive/My Drive/Colab Notebooks/train.csv')"
      ],
      "execution_count": 0,
      "outputs": []
    },
    {
      "cell_type": "code",
      "metadata": {
        "id": "HJIK0QGS8gKK",
        "colab_type": "code",
        "colab": {}
      },
      "source": [
        "for fname in data['fname']:\n",
        "  y, sr= librosa.load('/content/gdrive/My Drive/Colab Notebooks/train/' + fname)"
      ],
      "execution_count": 0,
      "outputs": []
    },
    {
      "cell_type": "markdown",
      "metadata": {
        "id": "JbuzXC27vhYE",
        "colab_type": "text"
      },
      "source": [
        "MFCC "
      ]
    },
    {
      "cell_type": "code",
      "metadata": {
        "id": "ImJF945SgFLH",
        "colab_type": "code",
        "colab": {}
      },
      "source": [
        "librosa.feature.mfcc(y=y, sr=sr)"
      ],
      "execution_count": 0,
      "outputs": []
    },
    {
      "cell_type": "code",
      "metadata": {
        "id": "5y7yvsz8iKud",
        "colab_type": "code",
        "colab": {}
      },
      "source": [
        "S = librosa.feature.melspectrogram(y=y, sr=sr, n_mels=128, fmax=8000)"
      ],
      "execution_count": 0,
      "outputs": []
    },
    {
      "cell_type": "code",
      "metadata": {
        "id": "a1T1L1VzFefJ",
        "colab_type": "code",
        "colab": {}
      },
      "source": [
        "librosa.feature.mfcc(S=librosa.power_to_db(S))"
      ],
      "execution_count": 0,
      "outputs": []
    },
    {
      "cell_type": "code",
      "metadata": {
        "id": "qNMgxuUYFoZ-",
        "colab_type": "code",
        "colab": {}
      },
      "source": [
        "mfccs = librosa.feature.mfcc(y=y, sr=sr, n_mfcc=40)"
      ],
      "execution_count": 0,
      "outputs": []
    },
    {
      "cell_type": "code",
      "metadata": {
        "id": "HOhuMOa2ibpQ",
        "colab_type": "code",
        "colab": {}
      },
      "source": [
        "import librosa.display\n",
        "import matplotlib.pyplot as plt\n",
        "plt.figure(figsize=(10, 4))\n",
        "librosa.display.specshow(mfccs, x_axis='time')\n",
        "plt.colorbar()\n",
        "plt.title('MFCC')\n",
        "plt.tight_layout()\n",
        "plt.show()"
      ],
      "execution_count": 0,
      "outputs": []
    },
    {
      "cell_type": "code",
      "metadata": {
        "id": "bpua8xYhwONn",
        "colab_type": "code",
        "colab": {}
      },
      "source": [
        "data_librosa = []\n",
        "for fname in data['fname']:\n",
        "  y, sr= librosa.load('/content/gdrive/My Drive/Colab Notebooks/train/' + fname)\n",
        "  data_mfcc= librosa.feature.mfcc(y=y, sr=sr)\n",
        "  data_librosa.append(data_mfcc)"
      ],
      "execution_count": 0,
      "outputs": []
    },
    {
      "cell_type": "code",
      "metadata": {
        "id": "VzqgyAT_35sS",
        "colab_type": "code",
        "colab": {}
      },
      "source": [
        "label=[]\n",
        "for l in data['label']:\n",
        "    label = list(data['label'])"
      ],
      "execution_count": 0,
      "outputs": []
    },
    {
      "cell_type": "markdown",
      "metadata": {
        "id": "2VP718EXGU4n",
        "colab_type": "text"
      },
      "source": [
        "Сохраняем данные в pickle"
      ]
    },
    {
      "cell_type": "code",
      "metadata": {
        "id": "vM4LlmVT2Zdk",
        "colab_type": "code",
        "colab": {}
      },
      "source": [
        "with open('/content/gdrive/My Drive/data_mfcc.pickle', 'wb') as f_d:\n",
        "    pickle.dump(data_mfcc, f_d)"
      ],
      "execution_count": 0,
      "outputs": []
    },
    {
      "cell_type": "code",
      "metadata": {
        "id": "3IexGKnsRaqb",
        "colab_type": "code",
        "colab": {}
      },
      "source": [
        "with open('/content/gdrive/My Drive/data_mfcc.pickle', 'rb') as f:\n",
        "    data_pickle = pickle.load(f)"
      ],
      "execution_count": 0,
      "outputs": []
    },
    {
      "cell_type": "code",
      "metadata": {
        "id": "OhYiUjXD5Ihj",
        "colab_type": "code",
        "colab": {}
      },
      "source": [
        "with open('/content/gdrive/My Drive/all_data_mfcc.pickle', 'wb') as f_d:\n",
        "    pickle.dump(data_librosa, f_d)"
      ],
      "execution_count": 0,
      "outputs": []
    },
    {
      "cell_type": "code",
      "metadata": {
        "id": "jkqAsQFP5MDU",
        "colab_type": "code",
        "colab": {}
      },
      "source": [
        "with open('/content/gdrive/My Drive/all_data_mfcc.pickle', 'rb') as f:\n",
        "  all_data_pickle = pickle.load(f)"
      ],
      "execution_count": 0,
      "outputs": []
    },
    {
      "cell_type": "code",
      "metadata": {
        "id": "EbsGZcvHCnZf",
        "colab_type": "code",
        "colab": {}
      },
      "source": [
        "average=[]\n",
        "for e in all_data_pickle:\n",
        "  average.append(np.mean(e, axis=1))"
      ],
      "execution_count": 0,
      "outputs": []
    },
    {
      "cell_type": "code",
      "metadata": {
        "id": "QTC2lH4rFuFs",
        "colab_type": "code",
        "colab": {}
      },
      "source": [
        "with open('/content/gdrive/My Drive/average_data.pickle', 'wb') as f_d:\n",
        "    pickle.dump(average, f_d)"
      ],
      "execution_count": 0,
      "outputs": []
    },
    {
      "cell_type": "code",
      "metadata": {
        "id": "fg4Gn7qkg7uz",
        "colab_type": "code",
        "colab": {}
      },
      "source": [
        "with open('/content/gdrive/My Drive/average_data.pickle', 'rb') as f:\n",
        "  average_data = pickle.load(f)"
      ],
      "execution_count": 0,
      "outputs": []
    },
    {
      "cell_type": "markdown",
      "metadata": {
        "id": "Fh9CXBZmH1sC",
        "colab_type": "text"
      },
      "source": [
        "\n",
        "Разбиваем  на test и train"
      ]
    },
    {
      "cell_type": "code",
      "metadata": {
        "id": "ItbU2O9aTwHt",
        "colab_type": "code",
        "colab": {}
      },
      "source": [
        "X_train, X_test, y_train, y_test = train_test_split(average_data, label, test_size=0.2, random_state=42)"
      ],
      "execution_count": 0,
      "outputs": []
    },
    {
      "cell_type": "code",
      "metadata": {
        "id": "A1IeEB5mGHWR",
        "colab_type": "code",
        "colab": {}
      },
      "source": [
        "from sklearn.ensemble import RandomForestClassifier\n",
        "X, y = make_classification(n_samples=1000, n_features=4, n_informative=2, n_redundant=0, random_state=0, shuffle=False)\n",
        "clf = RandomForestClassifier(max_depth=7, random_state=0)\n",
        "clf.fit(X_train, y_train)"
      ],
      "execution_count": 0,
      "outputs": []
    },
    {
      "cell_type": "markdown",
      "metadata": {
        "id": "qWguEu9959z3",
        "colab_type": "text"
      },
      "source": [
        "Результаты на train"
      ]
    },
    {
      "cell_type": "code",
      "metadata": {
        "id": "b_TZZ4O1a5MI",
        "colab_type": "code",
        "colab": {}
      },
      "source": [
        "result = clf.predict(X_train)"
      ],
      "execution_count": 0,
      "outputs": []
    },
    {
      "cell_type": "code",
      "metadata": {
        "id": "KmjLYb-LT0or",
        "colab_type": "code",
        "colab": {}
      },
      "source": [
        "from sklearn.metrics import classification_report, confusion_matrix\n",
        "print(classification_report(y_train, result))"
      ],
      "execution_count": 0,
      "outputs": []
    },
    {
      "cell_type": "markdown",
      "metadata": {
        "id": "M5Z5TCvZ6MIH",
        "colab_type": "text"
      },
      "source": [
        "Результаты на test"
      ]
    },
    {
      "cell_type": "code",
      "metadata": {
        "id": "qoS0I8PSbLNE",
        "colab_type": "code",
        "colab": {}
      },
      "source": [
        "result = clf.predict(X_test)"
      ],
      "execution_count": 0,
      "outputs": []
    },
    {
      "cell_type": "code",
      "metadata": {
        "id": "Yuj_GXDuUBmL",
        "colab_type": "code",
        "colab": {}
      },
      "source": [
        "prediction_2 = clf.predict(X_test)\n",
        "\n",
        "print(classification_report(y_test, prediction_2, digits = 5))"
      ],
      "execution_count": 0,
      "outputs": []
    },
    {
      "cell_type": "markdown",
      "metadata": {
        "id": "2U_-PHjjaEpj",
        "colab_type": "text"
      },
      "source": [
        "Матрица train"
      ]
    },
    {
      "cell_type": "code",
      "metadata": {
        "id": "TLMvJx7zIDlh",
        "colab_type": "code",
        "colab": {}
      },
      "source": [
        "from sklearn.metrics import plot_confusion_matrix\n",
        "\n",
        "np.set_printoptions(precision=2)\n",
        "\n",
        "disp = plot_confusion_matrix(clf , X_train, y_train, display_labels=label,\n",
        "                             cmap=plt.cm.Blues, xticks_rotation='vertical',\n",
        "                             normalize='true') \n",
        "\n",
        "print(disp.confusion_matrix)\n",
        "fig = plt.gcf()\n",
        "fig.set_size_inches(40, 25)\n",
        "plt.show()"
      ],
      "execution_count": 0,
      "outputs": []
    },
    {
      "cell_type": "markdown",
      "metadata": {
        "id": "vrjCRQhqff_2",
        "colab_type": "text"
      },
      "source": [
        "Матрица test"
      ]
    },
    {
      "cell_type": "code",
      "metadata": {
        "id": "pVc0rQesNvOF",
        "colab_type": "code",
        "colab": {}
      },
      "source": [
        "from sklearn.metrics import plot_confusion_matrix\n",
        "\n",
        "np.set_printoptions(precision=2)\n",
        "\n",
        "disp = plot_confusion_matrix(clf , X_test, y_test, display_labels=label,\n",
        "                             cmap=plt.cm.Blues, xticks_rotation='vertical',\n",
        "                             normalize='true') \n",
        "\n",
        "print(disp.confusion_matrix)\n",
        "fig = plt.gcf()\n",
        "fig.set_size_inches(40, 25)\n",
        "plt.show()"
      ],
      "execution_count": 0,
      "outputs": []
    },
    {
      "cell_type": "code",
      "metadata": {
        "id": "001zbtF1Wy3Y",
        "colab_type": "code",
        "colab": {}
      },
      "source": [
        ""
      ],
      "execution_count": 0,
      "outputs": []
    }
  ]
}